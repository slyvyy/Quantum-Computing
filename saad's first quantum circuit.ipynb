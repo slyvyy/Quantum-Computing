{
 "cells": [
  {
   "cell_type": "code",
   "execution_count": 2,
   "id": "3462609c-f330-452b-95d1-f63b34d005a5",
   "metadata": {
    "tags": []
   },
   "outputs": [],
   "source": [
    "# Importing standard Qiskit libraries\n",
    "from qiskit import QuantumCircuit, transpile\n",
    "from qiskit.tools.jupyter import *\n",
    "from qiskit.visualization import *\n",
    "from ibm_quantum_widgets import *\n",
    "\n",
    "# qiskit-ibmq-provider has been deprecated.\n",
    "# Please see the Migration Guides in https://ibm.biz/provider_migration_guide for more detail.\n",
    "from qiskit_ibm_runtime import QiskitRuntimeService, Sampler, Estimator, Session, Options\n",
    "\n",
    "# Loading your IBM Quantum account(s)\n",
    "service = QiskitRuntimeService(channel=\"ibm_quantum\")\n",
    "\n",
    "# Invoke a primitive. For more details see https://qiskit.org/documentation/partners/qiskit_ibm_runtime/tutorials.html\n",
    "# result = Sampler(\"ibmq_qasm_simulator\").run(circuits).result()"
   ]
  },
  {
   "cell_type": "code",
   "execution_count": 3,
   "id": "d7ffb6c7-859a-433e-b3e8-b34ab634d021",
   "metadata": {
    "tags": []
   },
   "outputs": [
    {
     "name": "stdout",
     "output_type": "stream",
     "text": [
      "Running on <IBMBackend('ibmq_lima')>\n"
     ]
    },
    {
     "data": {
      "image/png": "[encoded data removed]",
      "text/plain": [
       "<Figure size 700x500 with 1 Axes>"
      ]
     },
     "execution_count": 3,
     "metadata": {},
     "output_type": "execute_result"
    }
   ],
   "source": [
    "# 1. Create a simple quantum program called a 'quantum circuit'.\n",
    "from qiskit import QuantumCircuit\n",
    "qc = QuantumCircuit(3)\n",
    "qc.h(0)\n",
    "qc.cx(0, [1, 2])\n",
    "qc.measure_all()\n",
    "\n",
    "# 2. Ask IBM Quantum for its least busy device that isn't a simulator.\n",
    "# If you're running this locally, load your IBM Quantum API token using\n",
    "# service = QiskitRuntimeService(channel=\"ibm_quantum\", token=\"3729d8a6a46d5b4555b2979422ad68acfb8f9c3d10e5355a02165bb373ab6f69de88c9019d9b1778438bbb9502b3bc88ab54543e0758f4b3c39e0e2250f9fd70\")\n",
    "from qiskit_ibm_runtime import QiskitRuntimeService, Session, Sampler\n",
    "service = QiskitRuntimeService(channel=\"ibm_quantum\")\n",
    "backend = service.least_busy(simulator=False, operational=True)\n",
    "print(f'Running on {backend}')\n",
    "\n",
    "# 3. Run your circuit on that device\n",
    "with Session(backend=backend):\n",
    "    sampler = Sampler()\n",
    "    result = sampler.run(qc).result()\n",
    "\n",
    "# 4. Plot the results\n",
    "from qiskit.visualization import plot_histogram\n",
    "distribution = result.quasi_dists[0].binary_probabilities()\n",
    "plot_histogram(distribution)"
   ]
  },
  {
   "cell_type": "code",
   "execution_count": null,
   "id": "80678734-fdb6-4c0e-a855-d6a99a79bbee",
   "metadata": {},
   "outputs": [],
   "source": []
  }
 ],
 "metadata": {
  "kernelspec": {
   "display_name": "Python 3 (ipykernel)",
   "language": "python",
   "name": "python3"
  },
  "language_info": {
   "codemirror_mode": {
    "name": "ipython",
    "version": 3
   },
   "file_extension": ".py",
   "mimetype": "text/x-python",
   "name": "python",
   "nbconvert_exporter": "python",
   "pygments_lexer": "ipython3",
   "version": "3.10.8"
  },
  "widgets": {
   "application/vnd.jupyter.widget-state+json": {
    "state": {
     "0b5228ec989f4c8c91237936a67acbd9": {
      "model_module": "@jupyter-widgets/controls",
      "model_module_version": "2.0.0",
      "model_name": "GridBoxModel",
      "state": {
       "children": [
        "IPY_MODEL_13ba944e252047669563841c3d0986df"
       ],
       "layout": "IPY_MODEL_e52c269961d64122b6da9b8a7f318e5c"
      }
     },
     "111bacaf0c4545ecaff262e64efd98fc": {
      "model_module": "@jupyter-widgets/controls",
      "model_module_version": "2.0.0",
      "model_name": "HTMLStyleModel",
      "state": {
       "description_width": "",
       "font_size": null,
       "text_color": null
      }
     },
     "13ba944e252047669563841c3d0986df": {
      "model_module": "@jupyter-widgets/controls",
      "model_module_version": "2.0.0",
      "model_name": "ButtonModel",
      "state": {
       "button_style": "primary",
       "description": "Clear",
       "layout": "IPY_MODEL_b62b70761c8248a2aef6c64f7ad60f84",
       "style": "IPY_MODEL_5133ac01b1e246d69e45a5496462ba62",
       "tooltip": null
      }
     },
     "1db4b33a200347629fefd6398464407e": {
      "model_module": "@jupyter-widgets/base",
      "model_module_version": "2.0.0",
      "model_name": "LayoutModel",
      "state": {
       "width": "190px"
      }
     },
     "3260e90b6ed44743a903cc11a56162d4": {
      "model_module": "@jupyter-widgets/controls",
      "model_module_version": "2.0.0",
      "model_name": "HTMLModel",
      "state": {
       "layout": "IPY_MODEL_e8cf10eda17e4ef48a8793c6f09dfcf3",
       "style": "IPY_MODEL_9525cfeffd0c4b158e8835c741186ca0",
       "value": "<h5>Status</h5>"
      }
     },
     "5133ac01b1e246d69e45a5496462ba62": {
      "model_module": "@jupyter-widgets/controls",
      "model_module_version": "2.0.0",
      "model_name": "ButtonStyleModel",
      "state": {
       "font_family": null,
       "font_size": null,
       "font_style": null,
       "font_variant": null,
       "font_weight": null,
       "text_color": null,
       "text_decoration": null
      }
     },
     "5b1914f65f5441538da843fc2f9c9dfe": {
      "model_module": "@jupyter-widgets/base",
      "model_module_version": "2.0.0",
      "model_name": "LayoutModel",
      "state": {
       "width": "70px"
      }
     },
     "5f524520854c4c09a19e56d99302932b": {
      "model_module": "@jupyter-widgets/controls",
      "model_module_version": "2.0.0",
      "model_name": "HTMLStyleModel",
      "state": {
       "description_width": "",
       "font_size": null,
       "text_color": null
      }
     },
     "711264daa259424cbe7bfcdb19956e01": {
      "model_module": "@jupyter-widgets/controls",
      "model_module_version": "2.0.0",
      "model_name": "HTMLStyleModel",
      "state": {
       "description_width": "",
       "font_size": null,
       "text_color": null
      }
     },
     "75be3d0dbe2b4261887cecdfe0d5f008": {
      "model_module": "@jupyter-widgets/controls",
      "model_module_version": "2.0.0",
      "model_name": "HTMLStyleModel",
      "state": {
       "description_width": "",
       "font_size": null,
       "text_color": null
      }
     },
     "78d2cb29f25149b2baddf1dec6e84aa5": {
      "model_module": "@jupyter-widgets/controls",
      "model_module_version": "2.0.0",
      "model_name": "HTMLModel",
      "state": {
       "layout": "IPY_MODEL_5b1914f65f5441538da843fc2f9c9dfe",
       "style": "IPY_MODEL_111bacaf0c4545ecaff262e64efd98fc",
       "value": "<h5>Queue</h5>"
      }
     },
     "7da9506eee51447c9999e1ae59f52594": {
      "model_module": "@jupyter-widgets/base",
      "model_module_version": "2.0.0",
      "model_name": "LayoutModel",
      "state": {
       "margin": "0px 0px 10px 0px"
      }
     },
     "88063003c21c40cf94ac29aedfe02e8d": {
      "model_module": "@jupyter-widgets/controls",
      "model_module_version": "2.0.0",
      "model_name": "HTMLStyleModel",
      "state": {
       "description_width": "",
       "font_size": null,
       "text_color": null
      }
     },
     "9525cfeffd0c4b158e8835c741186ca0": {
      "model_module": "@jupyter-widgets/controls",
      "model_module_version": "2.0.0",
      "model_name": "HTMLStyleModel",
      "state": {
       "description_width": "",
       "font_size": null,
       "text_color": null
      }
     },
     "b62b70761c8248a2aef6c64f7ad60f84": {
      "model_module": "@jupyter-widgets/base",
      "model_module_version": "2.0.0",
      "model_name": "LayoutModel",
      "state": {
       "grid_area": "right",
       "padding": "0px 0px 0px 0px",
       "width": "70px"
      }
     },
     "b88286d6809145f587e3155cbfd0522d": {
      "model_module": "@jupyter-widgets/controls",
      "model_module_version": "2.0.0",
      "model_name": "HTMLModel",
      "state": {
       "layout": "IPY_MODEL_7da9506eee51447c9999e1ae59f52594",
       "style": "IPY_MODEL_5f524520854c4c09a19e56d99302932b",
       "value": "<p style='font-family: IBM Plex Sans, Arial, Helvetica, sans-serif; font-size: 20px; font-weight: medium;'>Circuit Properties</p>"
      }
     },
     "c3f3629ac411493e86a63b3e1020c4fa": {
      "model_module": "@jupyter-widgets/base",
      "model_module_version": "2.0.0",
      "model_name": "LayoutModel",
      "state": {
       "width": "145px"
      }
     },
     "c7746db8f24d45aa8a049e705b9cbb72": {
      "model_module": "@jupyter-widgets/controls",
      "model_module_version": "2.0.0",
      "model_name": "HTMLModel",
      "state": {
       "layout": "IPY_MODEL_1db4b33a200347629fefd6398464407e",
       "style": "IPY_MODEL_88063003c21c40cf94ac29aedfe02e8d",
       "value": "<h5>Job ID</h5>"
      }
     },
     "c837494d45284c258bea199c8bdf3016": {
      "model_module": "@jupyter-widgets/controls",
      "model_module_version": "2.0.0",
      "model_name": "HTMLModel",
      "state": {
       "layout": "IPY_MODEL_f12b9fe6fcb34d3e9da97b8ad27b0648",
       "style": "IPY_MODEL_711264daa259424cbe7bfcdb19956e01",
       "value": "<h5>Message</h5>"
      }
     },
     "c86faf7b3a494b98b771ed64074f3b12": {
      "model_module": "@jupyter-widgets/controls",
      "model_module_version": "2.0.0",
      "model_name": "HBoxModel",
      "state": {
       "children": [
        "IPY_MODEL_c7746db8f24d45aa8a049e705b9cbb72",
        "IPY_MODEL_f0bba0ebdaa645728c4d533fab814980",
        "IPY_MODEL_3260e90b6ed44743a903cc11a56162d4",
        "IPY_MODEL_78d2cb29f25149b2baddf1dec6e84aa5",
        "IPY_MODEL_c837494d45284c258bea199c8bdf3016"
       ],
       "layout": "IPY_MODEL_d02c61579d934af683672e888532cf70"
      }
     },
     "d02c61579d934af683672e888532cf70": {
      "model_module": "@jupyter-widgets/base",
      "model_module_version": "2.0.0",
      "model_name": "LayoutModel",
      "state": {
       "margin": "0px 0px 0px 37px",
       "width": "600px"
      }
     },
     "e52c269961d64122b6da9b8a7f318e5c": {
      "model_module": "@jupyter-widgets/base",
      "model_module_version": "2.0.0",
      "model_name": "LayoutModel",
      "state": {
       "grid_template_areas": "\n                                       \". . . . right \"\n                                        ",
       "grid_template_columns": "20% 20% 20% 20% 20%",
       "width": "100%"
      }
     },
     "e8cf10eda17e4ef48a8793c6f09dfcf3": {
      "model_module": "@jupyter-widgets/base",
      "model_module_version": "2.0.0",
      "model_name": "LayoutModel",
      "state": {
       "width": "95px"
      }
     },
     "f0bba0ebdaa645728c4d533fab814980": {
      "model_module": "@jupyter-widgets/controls",
      "model_module_version": "2.0.0",
      "model_name": "HTMLModel",
      "state": {
       "layout": "IPY_MODEL_c3f3629ac411493e86a63b3e1020c4fa",
       "style": "IPY_MODEL_75be3d0dbe2b4261887cecdfe0d5f008",
       "value": "<h5>Backend</h5>"
      }
     },
     "f12b9fe6fcb34d3e9da97b8ad27b0648": {
      "model_module": "@jupyter-widgets/base",
      "model_module_version": "2.0.0",
      "model_name": "LayoutModel",
      "state": {}
     }
    },
    "version_major": 2,
    "version_minor": 0
   }
  }
 },
 "nbformat": 4,
 "nbformat_minor": 5
}
